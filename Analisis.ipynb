{
 "cells": [
  {
   "cell_type": "code",
   "execution_count": 34,
   "id": "91c81ab2",
   "metadata": {},
   "outputs": [],
   "source": [
    "import pandas as pd\n",
    "import matplotlib.pyplot as plt\n",
    "import seaborn as sns\n",
    "from matplotlib.ticker import FuncFormatter\n",
    "from sklearn.preprocessing import StandardScaler"
   ]
  },
  {
   "cell_type": "code",
   "execution_count": 35,
   "id": "9026d6c2",
   "metadata": {},
   "outputs": [],
   "source": [
    "df = pd.read_csv('bakery_dataset.csv')"
   ]
  },
  {
   "cell_type": "code",
   "execution_count": 36,
   "id": "0ec3d416",
   "metadata": {},
   "outputs": [
    {
     "name": "stdout",
     "output_type": "stream",
     "text": [
      "Jumlah missing value:\n",
      "ticket_number      0\n",
      "date               0\n",
      "time               0\n",
      "article            0\n",
      "Quantity           0\n",
      "unit_price_euro    0\n",
      "dtype: int64\n"
     ]
    },
    {
     "data": {
      "application/vnd.microsoft.datawrangler.viewer.v0+json": {
       "columns": [
        {
         "name": "index",
         "rawType": "int64",
         "type": "integer"
        },
        {
         "name": "ticket_number",
         "rawType": "int64",
         "type": "integer"
        },
        {
         "name": "date",
         "rawType": "object",
         "type": "string"
        },
        {
         "name": "time",
         "rawType": "object",
         "type": "string"
        },
        {
         "name": "article",
         "rawType": "object",
         "type": "string"
        },
        {
         "name": "Quantity",
         "rawType": "int64",
         "type": "integer"
        },
        {
         "name": "unit_price_euro",
         "rawType": "float64",
         "type": "float"
        }
       ],
       "ref": "549fb133-d895-4411-bbf2-ac4f52bd33e4",
       "rows": [
        [
         "0",
         "150045",
         "2021-01-02",
         "9:32",
         "TRADITIONAL BAGUETTE",
         "3",
         "1.2"
        ],
        [
         "1",
         "150046",
         "2021-01-02",
         "9:37",
         "TRADITIONAL BAGUETTE",
         "6",
         "1.2"
        ],
        [
         "2",
         "150049",
         "2021-01-02",
         "9:40",
         "CROISSANT",
         "2",
         "1.1"
        ],
        [
         "3",
         "150049",
         "2021-01-02",
         "9:40",
         "TRADITIONAL BAGUETTE",
         "1",
         "1.2"
        ],
        [
         "4",
         "150051",
         "2021-01-02",
         "9:46",
         "PAIN",
         "1",
         "1.15"
        ],
        [
         "5",
         "150052",
         "2021-01-02",
         "9:48",
         "SPECIAL BREAD",
         "1",
         "2.4"
        ],
        [
         "6",
         "150054",
         "2021-01-02",
         "9:49",
         "KOUIGN AMANN",
         "1",
         "2.1"
        ],
        [
         "7",
         "150055",
         "2021-01-02",
         "9:57",
         "TRADITIONAL BAGUETTE",
         "4",
         "1.2"
        ],
        [
         "8",
         "150056",
         "2021-01-02",
         "9:58",
         "BANETTE",
         "3",
         "1.05"
        ],
        [
         "9",
         "150058",
         "2021-01-02",
         "10:03",
         "CROISSANT",
         "2",
         "1.1"
        ],
        [
         "10",
         "150058",
         "2021-01-02",
         "10:03",
         "PAIN AU CHOCOLAT",
         "2",
         "1.2"
        ],
        [
         "11",
         "150059",
         "2021-01-02",
         "10:04",
         "TRADITIONAL BAGUETTE",
         "4",
         "1.2"
        ],
        [
         "12",
         "150060",
         "2021-01-02",
         "10:05",
         "TRADITIONAL BAGUETTE",
         "4",
         "1.2"
        ],
        [
         "13",
         "150061",
         "2021-01-02",
         "10:12",
         "SPECIAL BREAD",
         "1",
         "2.4"
        ],
        [
         "14",
         "150062",
         "2021-01-02",
         "10:17",
         "SPECIAL BREAD",
         "1",
         "2.4"
        ],
        [
         "15",
         "150063",
         "2021-01-02",
         "10:18",
         "TRADITIONAL BAGUETTE",
         "2",
         "1.2"
        ],
        [
         "16",
         "150063",
         "2021-01-02",
         "10:18",
         "GAL FRANGIPANE 6P",
         "1",
         "12.0"
        ],
        [
         "17",
         "150063",
         "2021-01-02",
         "10:18",
         "MOISSON",
         "1",
         "2.0"
        ],
        [
         "18",
         "150063",
         "2021-01-02",
         "10:18",
         "COUPE",
         "1",
         "0.15"
        ],
        [
         "19",
         "150065",
         "2021-01-02",
         "10:22",
         "SAND JB EMMENTAL",
         "1",
         "3.5"
        ],
        [
         "20",
         "150066",
         "2021-01-02",
         "10:24",
         "BAGUETTE",
         "1",
         "0.9"
        ],
        [
         "21",
         "150066",
         "2021-01-02",
         "10:24",
         "PAIN AU CHOCOLAT",
         "2",
         "1.2"
        ],
        [
         "22",
         "150066",
         "2021-01-02",
         "10:24",
         "TRADITIONAL BAGUETTE",
         "1",
         "1.2"
        ],
        [
         "23",
         "150066",
         "2021-01-02",
         "10:24",
         "CROISSANT",
         "2",
         "1.1"
        ],
        [
         "24",
         "150069",
         "2021-01-02",
         "10:29",
         "KOUIGN AMANN",
         "2",
         "2.1"
        ],
        [
         "25",
         "150070",
         "2021-01-02",
         "10:33",
         "BANETTE",
         "1",
         "1.05"
        ],
        [
         "26",
         "150070",
         "2021-01-02",
         "10:33",
         "PAIN AU CHOCOLAT",
         "2",
         "1.2"
        ],
        [
         "27",
         "150071",
         "2021-01-02",
         "10:34",
         "CROISSANT",
         "2",
         "1.1"
        ],
        [
         "28",
         "150071",
         "2021-01-02",
         "10:34",
         "TRADITIONAL BAGUETTE",
         "2",
         "1.2"
        ],
        [
         "29",
         "150074",
         "2021-01-02",
         "10:42",
         "BANETTINE",
         "1",
         "0.6"
        ],
        [
         "30",
         "150075",
         "2021-01-02",
         "10:44",
         "COUPE",
         "1",
         "0.15"
        ],
        [
         "31",
         "150075",
         "2021-01-02",
         "10:44",
         "SEIGLE",
         "1",
         "1.8"
        ],
        [
         "32",
         "150076",
         "2021-01-02",
         "10:46",
         "TRADITIONAL BAGUETTE",
         "2",
         "1.2"
        ],
        [
         "33",
         "150077",
         "2021-01-02",
         "10:49",
         "PAIN AU CHOCOLAT",
         "2",
         "1.2"
        ],
        [
         "34",
         "150078",
         "2021-01-02",
         "10:50",
         "TRADITIONAL BAGUETTE",
         "1",
         "1.2"
        ],
        [
         "35",
         "150079",
         "2021-01-02",
         "10:51",
         "GAL FRANGIPANE 4P",
         "1",
         "8.0"
        ],
        [
         "36",
         "150079",
         "2021-01-02",
         "10:51",
         "SPECIAL BREAD",
         "1",
         "2.4"
        ],
        [
         "37",
         "150081",
         "2021-01-02",
         "10:54",
         "TRADITIONAL BAGUETTE",
         "1",
         "1.2"
        ],
        [
         "38",
         "150082",
         "2021-01-02",
         "10:54",
         "TRADITIONAL BAGUETTE",
         "4",
         "1.2"
        ],
        [
         "39",
         "150083",
         "2021-01-02",
         "10:54",
         "TRADITIONAL BAGUETTE",
         "1",
         "1.2"
        ],
        [
         "40",
         "150084",
         "2021-01-02",
         "10:55",
         "PAIN AU CHOCOLAT",
         "4",
         "1.2"
        ],
        [
         "41",
         "150084",
         "2021-01-02",
         "10:55",
         "COOKIE",
         "1",
         "1.0"
        ],
        [
         "42",
         "150084",
         "2021-01-02",
         "10:55",
         "CEREAL BAGUETTE",
         "1",
         "1.25"
        ],
        [
         "43",
         "150085",
         "2021-01-02",
         "10:56",
         "TRADITIONAL BAGUETTE",
         "4",
         "1.2"
        ],
        [
         "44",
         "150086",
         "2021-01-02",
         "10:57",
         "CROISSANT",
         "2",
         "1.1"
        ],
        [
         "45",
         "150086",
         "2021-01-02",
         "10:57",
         "PAIN AU CHOCOLAT",
         "1",
         "1.2"
        ],
        [
         "46",
         "150086",
         "2021-01-02",
         "10:57",
         "CEREAL BAGUETTE",
         "1",
         "1.25"
        ],
        [
         "47",
         "150088",
         "2021-01-02",
         "11:04",
         "TRADITIONAL BAGUETTE",
         "2",
         "1.2"
        ],
        [
         "48",
         "150089",
         "2021-01-02",
         "11:06",
         "BAGUETTE",
         "1",
         "0.9"
        ],
        [
         "49",
         "150090",
         "2021-01-02",
         "11:08",
         "TRADITIONAL BAGUETTE",
         "2",
         "1.2"
        ]
       ],
       "shape": {
        "columns": 6,
        "rows": 2995
       }
      },
      "text/html": [
       "<div>\n",
       "<style scoped>\n",
       "    .dataframe tbody tr th:only-of-type {\n",
       "        vertical-align: middle;\n",
       "    }\n",
       "\n",
       "    .dataframe tbody tr th {\n",
       "        vertical-align: top;\n",
       "    }\n",
       "\n",
       "    .dataframe thead th {\n",
       "        text-align: right;\n",
       "    }\n",
       "</style>\n",
       "<table border=\"1\" class=\"dataframe\">\n",
       "  <thead>\n",
       "    <tr style=\"text-align: right;\">\n",
       "      <th></th>\n",
       "      <th>ticket_number</th>\n",
       "      <th>date</th>\n",
       "      <th>time</th>\n",
       "      <th>article</th>\n",
       "      <th>Quantity</th>\n",
       "      <th>unit_price_euro</th>\n",
       "    </tr>\n",
       "  </thead>\n",
       "  <tbody>\n",
       "    <tr>\n",
       "      <th>0</th>\n",
       "      <td>150045</td>\n",
       "      <td>2021-01-02</td>\n",
       "      <td>9:32</td>\n",
       "      <td>TRADITIONAL BAGUETTE</td>\n",
       "      <td>3</td>\n",
       "      <td>1.20</td>\n",
       "    </tr>\n",
       "    <tr>\n",
       "      <th>1</th>\n",
       "      <td>150046</td>\n",
       "      <td>2021-01-02</td>\n",
       "      <td>9:37</td>\n",
       "      <td>TRADITIONAL BAGUETTE</td>\n",
       "      <td>6</td>\n",
       "      <td>1.20</td>\n",
       "    </tr>\n",
       "    <tr>\n",
       "      <th>2</th>\n",
       "      <td>150049</td>\n",
       "      <td>2021-01-02</td>\n",
       "      <td>9:40</td>\n",
       "      <td>CROISSANT</td>\n",
       "      <td>2</td>\n",
       "      <td>1.10</td>\n",
       "    </tr>\n",
       "    <tr>\n",
       "      <th>3</th>\n",
       "      <td>150049</td>\n",
       "      <td>2021-01-02</td>\n",
       "      <td>9:40</td>\n",
       "      <td>TRADITIONAL BAGUETTE</td>\n",
       "      <td>1</td>\n",
       "      <td>1.20</td>\n",
       "    </tr>\n",
       "    <tr>\n",
       "      <th>4</th>\n",
       "      <td>150051</td>\n",
       "      <td>2021-01-02</td>\n",
       "      <td>9:46</td>\n",
       "      <td>PAIN</td>\n",
       "      <td>1</td>\n",
       "      <td>1.15</td>\n",
       "    </tr>\n",
       "    <tr>\n",
       "      <th>...</th>\n",
       "      <td>...</td>\n",
       "      <td>...</td>\n",
       "      <td>...</td>\n",
       "      <td>...</td>\n",
       "      <td>...</td>\n",
       "      <td>...</td>\n",
       "    </tr>\n",
       "    <tr>\n",
       "      <th>2995</th>\n",
       "      <td>154053</td>\n",
       "      <td>2021-01-31</td>\n",
       "      <td>13:20</td>\n",
       "      <td>TRADITIONAL BAGUETTE</td>\n",
       "      <td>1</td>\n",
       "      <td>1.20</td>\n",
       "    </tr>\n",
       "    <tr>\n",
       "      <th>2996</th>\n",
       "      <td>154054</td>\n",
       "      <td>2021-01-31</td>\n",
       "      <td>13:20</td>\n",
       "      <td>TRADITIONAL BAGUETTE</td>\n",
       "      <td>2</td>\n",
       "      <td>1.20</td>\n",
       "    </tr>\n",
       "    <tr>\n",
       "      <th>2997</th>\n",
       "      <td>154055</td>\n",
       "      <td>2021-01-31</td>\n",
       "      <td>13:34</td>\n",
       "      <td>TRADITIONAL BAGUETTE</td>\n",
       "      <td>1</td>\n",
       "      <td>1.20</td>\n",
       "    </tr>\n",
       "    <tr>\n",
       "      <th>2998</th>\n",
       "      <td>154056</td>\n",
       "      <td>2021-01-31</td>\n",
       "      <td>13:40</td>\n",
       "      <td>TRADITIONAL BAGUETTE</td>\n",
       "      <td>1</td>\n",
       "      <td>1.20</td>\n",
       "    </tr>\n",
       "    <tr>\n",
       "      <th>2999</th>\n",
       "      <td>154056</td>\n",
       "      <td>2021-01-31</td>\n",
       "      <td>13:40</td>\n",
       "      <td>QUIM BREAD</td>\n",
       "      <td>1</td>\n",
       "      <td>1.00</td>\n",
       "    </tr>\n",
       "  </tbody>\n",
       "</table>\n",
       "<p>2995 rows × 6 columns</p>\n",
       "</div>"
      ],
      "text/plain": [
       "      ticket_number        date   time               article  Quantity  \\\n",
       "0            150045  2021-01-02   9:32  TRADITIONAL BAGUETTE         3   \n",
       "1            150046  2021-01-02   9:37  TRADITIONAL BAGUETTE         6   \n",
       "2            150049  2021-01-02   9:40             CROISSANT         2   \n",
       "3            150049  2021-01-02   9:40  TRADITIONAL BAGUETTE         1   \n",
       "4            150051  2021-01-02   9:46                  PAIN         1   \n",
       "...             ...         ...    ...                   ...       ...   \n",
       "2995         154053  2021-01-31  13:20  TRADITIONAL BAGUETTE         1   \n",
       "2996         154054  2021-01-31  13:20  TRADITIONAL BAGUETTE         2   \n",
       "2997         154055  2021-01-31  13:34  TRADITIONAL BAGUETTE         1   \n",
       "2998         154056  2021-01-31  13:40  TRADITIONAL BAGUETTE         1   \n",
       "2999         154056  2021-01-31  13:40            QUIM BREAD         1   \n",
       "\n",
       "      unit_price_euro  \n",
       "0                1.20  \n",
       "1                1.20  \n",
       "2                1.10  \n",
       "3                1.20  \n",
       "4                1.15  \n",
       "...               ...  \n",
       "2995             1.20  \n",
       "2996             1.20  \n",
       "2997             1.20  \n",
       "2998             1.20  \n",
       "2999             1.00  \n",
       "\n",
       "[2995 rows x 6 columns]"
      ]
     },
     "execution_count": 36,
     "metadata": {},
     "output_type": "execute_result"
    }
   ],
   "source": [
    "print(\"Jumlah missing value:\")\n",
    "print(df.isnull().sum())\n",
    "\n",
    "df = df.dropna()\n",
    "df.drop_duplicates()"
   ]
  },
  {
   "cell_type": "code",
   "execution_count": 37,
   "id": "07437894",
   "metadata": {},
   "outputs": [],
   "source": [
    "# Tangani outlier dengan z-score\n",
    "from scipy.stats import zscore\n",
    "numeric_cols = df.select_dtypes(include=[\"float64\", \"int64\"]).columns\n",
    "z_scores = zscore(df[numeric_cols])\n",
    "df = df[(abs(z_scores) < 3).all(axis=1)]"
   ]
  },
  {
   "cell_type": "code",
   "execution_count": 38,
   "id": "7017c41f",
   "metadata": {},
   "outputs": [],
   "source": [
    "df['Quantity'] = df['Quantity'].abs()\n",
    "df['total_sale'] = df['Quantity'] * df['unit_price_euro']\n",
    "\n",
    "df['date'] = pd.to_datetime(df['date'], format='%Y-%m-%d')  # Format tanggal eksplisit\n",
    "df['hour'] = pd.to_datetime(df['time'], format='%H:%M').dt.hour  # Format waktu eksplisit"
   ]
  },
  {
   "cell_type": "code",
   "execution_count": 39,
   "id": "fed48849",
   "metadata": {},
   "outputs": [],
   "source": [
    "daily_sales = df.groupby('date').agg({\n",
    "    'ticket_number': 'nunique',  # Hitung unique transactions per hari\n",
    "    'total_sale': 'sum'\n",
    "}).reset_index()"
   ]
  },
  {
   "cell_type": "code",
   "execution_count": 40,
   "id": "9ff55dcf",
   "metadata": {},
   "outputs": [
    {
     "data": {
      "image/png": "[encoded data removed]",
      "text/plain": [
       "<Figure size 1200x600 with 1 Axes>"
      ]
     },
     "metadata": {},
     "output_type": "display_data"
    },
    {
     "name": "stdout",
     "output_type": "stream",
     "text": [
      "Grafik di atas menunjukkan total penjualan harian pada bakery selama periode data yang tersedia.\n"
     ]
    }
   ],
   "source": [
    "plt.figure(figsize=(12, 6))\n",
    "sns.lineplot(data=daily_sales, x='date', y='total_sale', marker='o')\n",
    "plt.title('Daily Total Sales')\n",
    "plt.xlabel('Date')\n",
    "plt.ylabel('Total Sales (€)')\n",
    "plt.xticks(rotation=45)\n",
    "plt.tight_layout()\n",
    "plt.show()\n",
    "\n",
    "print(\"Grafik di atas menunjukkan total penjualan harian pada bakery selama periode data yang tersedia.\")"
   ]
  },
  {
   "cell_type": "code",
   "execution_count": 41,
   "id": "07191292",
   "metadata": {},
   "outputs": [
    {
     "name": "stdout",
     "output_type": "stream",
     "text": [
      "         date  total_sale\n",
      "0  2021-01-02      339.20\n",
      "1  2021-01-03      276.55\n",
      "2  2021-01-04      154.55\n",
      "3  2021-01-05      219.95\n",
      "4  2021-01-07      174.05\n",
      "5  2021-01-08      229.20\n",
      "6  2021-01-09      212.95\n",
      "7  2021-01-10      221.70\n",
      "8  2021-01-11      160.75\n",
      "9  2021-01-12      177.20\n",
      "10 2021-01-14      164.45\n",
      "11 2021-01-15      213.40\n",
      "12 2021-01-16      215.70\n",
      "13 2021-01-17      260.00\n",
      "14 2021-01-18      156.35\n",
      "15 2021-01-19      148.55\n",
      "16 2021-01-21      155.90\n",
      "17 2021-01-22      198.60\n",
      "18 2021-01-23      226.60\n",
      "19 2021-01-24      253.90\n",
      "20 2021-01-25      144.60\n",
      "21 2021-01-26      206.35\n",
      "22 2021-01-28      131.85\n",
      "23 2021-01-29      204.55\n",
      "24 2021-01-30      231.20\n",
      "25 2021-01-31      301.45\n"
     ]
    }
   ],
   "source": [
    "# tabel daily sales beserta tanggal\n",
    "daily_sales_table = daily_sales[['date', 'total_sale']]\n",
    "print(daily_sales_table)"
   ]
  },
  {
   "cell_type": "code",
   "execution_count": 42,
   "id": "ef4b9d1e",
   "metadata": {},
   "outputs": [
    {
     "name": "stdout",
     "output_type": "stream",
     "text": [
      "Top 5 produk yang paling banyak dijual:\n",
      "article\n",
      "TRADITIONAL BAGUETTE    1165\n",
      "COUPE                    335\n",
      "BAGUETTE                 309\n",
      "BANETTE                  265\n",
      "CROISSANT                264\n",
      "Name: Quantity, dtype: int64\n"
     ]
    }
   ],
   "source": [
    "top5_products = df.groupby('article')['Quantity'].sum().sort_values(ascending=False).head(5)\n",
    "print(\"Top 5 produk yang paling banyak dijual:\")\n",
    "print(top5_products)"
   ]
  },
  {
   "cell_type": "code",
   "execution_count": 43,
   "id": "fa43d721",
   "metadata": {},
   "outputs": [
    {
     "name": "stderr",
     "output_type": "stream",
     "text": [
      "C:\\Users\\USER\\AppData\\Local\\Temp\\ipykernel_6700\\4105233174.py:2: FutureWarning: \n",
      "\n",
      "Passing `palette` without assigning `hue` is deprecated and will be removed in v0.14.0. Assign the `y` variable to `hue` and set `legend=False` for the same effect.\n",
      "\n",
      "  sns.barplot(\n"
     ]
    },
    {
     "data": {
      "image/png": "[encoded data removed]",
      "text/plain": [
       "<Figure size 800x500 with 1 Axes>"
      ]
     },
     "metadata": {},
     "output_type": "display_data"
    }
   ],
   "source": [
    "plt.figure(figsize=(8, 5))\n",
    "sns.barplot(\n",
    "    x=top5_products.values,\n",
    "    y=top5_products.index,\n",
    "    palette=\"viridis\"\n",
    ")\n",
    "plt.title(\"Top 5 Produk Terlaris\")\n",
    "plt.xlabel(\"Jumlah Terjual\")\n",
    "plt.ylabel(\"Produk\")\n",
    "plt.tight_layout()\n",
    "plt.show()"
   ]
  },
  {
   "cell_type": "code",
   "execution_count": 44,
   "id": "ca379584",
   "metadata": {},
   "outputs": [
    {
     "name": "stdout",
     "output_type": "stream",
     "text": [
      "Monday: 293 transaksi\n",
      "Tuesday: 316 transaksi\n",
      "Thursday: 268 transaksi\n",
      "Friday: 311 transaksi\n",
      "Saturday: 467 transaksi\n",
      "Sunday: 526 transaksi\n",
      "\n",
      "Hari tersibuk berdasarkan jumlah transaksi: Sunday (526 transaksi)\n"
     ]
    }
   ],
   "source": [
    "# day_sales sudah tersedia, urutkan dan tampilkan hasilnya\n",
    "\n",
    "day_sales['day_of_week'] = pd.Categorical(day_sales['day_of_week'], categories=days_order, ordered=True)\n",
    "day_sales = day_sales.sort_values('day_of_week')\n",
    "\n",
    "# Tampilkan jumlah transaksi untuk semua hari\n",
    "for idx, row in day_sales.iterrows():\n",
    "    print(f\"{row['day_of_week']}: {row['ticket_number']} transaksi\")\n",
    "\n",
    "# Cari hari tersibuk\n",
    "busiest_idx = day_sales['ticket_number'].idxmax()\n",
    "busiest_day_by_ticket = day_sales.loc[busiest_idx, 'day_of_week']\n",
    "busiest_ticket_val = day_sales.loc[busiest_idx, 'ticket_number']\n",
    "\n",
    "print(f\"\\nHari tersibuk berdasarkan jumlah transaksi: {busiest_day_by_ticket} ({busiest_ticket_val} transaksi)\")"
   ]
  },
  {
   "cell_type": "code",
   "execution_count": 45,
   "id": "203d064d",
   "metadata": {},
   "outputs": [
    {
     "name": "stderr",
     "output_type": "stream",
     "text": [
      "C:\\Users\\USER\\AppData\\Local\\Temp\\ipykernel_6700\\2921842511.py:2: FutureWarning: \n",
      "\n",
      "Passing `palette` without assigning `hue` is deprecated and will be removed in v0.14.0. Assign the `y` variable to `hue` and set `legend=False` for the same effect.\n",
      "\n",
      "  sns.barplot(\n"
     ]
    },
    {
     "data": {
      "image/png": "[encoded data removed]",
      "text/plain": [
       "<Figure size 800x500 with 1 Axes>"
      ]
     },
     "metadata": {},
     "output_type": "display_data"
    }
   ],
   "source": [
    "plt.figure(figsize=(8, 5))\n",
    "sns.barplot(\n",
    "    x=day_sales['ticket_number'],\n",
    "    y=day_sales['day_of_week'],\n",
    "    order=days_order,\n",
    "    palette=\"mako\"\n",
    ")\n",
    "plt.title(\"Jumlah Transaksi per Hari dalam Seminggu\")\n",
    "plt.xlabel(\"Jumlah Transaksi\")\n",
    "plt.ylabel(\"Hari\")\n",
    "plt.tight_layout()\n",
    "plt.show()"
   ]
  },
  {
   "cell_type": "code",
   "execution_count": 46,
   "id": "dd751704",
   "metadata": {},
   "outputs": [
    {
     "name": "stderr",
     "output_type": "stream",
     "text": [
      "C:\\Users\\USER\\AppData\\Local\\Temp\\ipykernel_6700\\1619933094.py:5: FutureWarning: \n",
      "\n",
      "Passing `palette` without assigning `hue` is deprecated and will be removed in v0.14.0. Assign the `x` variable to `hue` and set `legend=False` for the same effect.\n",
      "\n",
      "  sns.barplot(x=transactions_by_hour.index, y=transactions_by_hour.values, palette=\"crest\")\n"
     ]
    },
    {
     "data": {
      "image/png": "[encoded data removed]",
      "text/plain": [
       "<Figure size 1000x500 with 1 Axes>"
      ]
     },
     "metadata": {},
     "output_type": "display_data"
    }
   ],
   "source": [
    "# Hitung jumlah transaksi unik per jam\n",
    "transactions_by_hour = df.groupby('hour')['ticket_number'].nunique()\n",
    "\n",
    "plt.figure(figsize=(10, 5))\n",
    "sns.barplot(x=transactions_by_hour.index, y=transactions_by_hour.values, palette=\"crest\")\n",
    "plt.title(\"Jumlah Transaksi per Jam\")\n",
    "plt.xlabel(\"Jam\")\n",
    "plt.ylabel(\"Jumlah Transaksi\")\n",
    "plt.xticks(range(0, 24))\n",
    "plt.tight_layout()\n",
    "plt.show()"
   ]
  }
 ],
 "metadata": {
  "kernelspec": {
   "display_name": "Python 3",
   "language": "python",
   "name": "python3"
  },
  "language_info": {
   "codemirror_mode": {
    "name": "ipython",
    "version": 3
   },
   "file_extension": ".py",
   "mimetype": "text/x-python",
   "name": "python",
   "nbconvert_exporter": "python",
   "pygments_lexer": "ipython3",
   "version": "3.13.2"
  }
 },
 "nbformat": 4,
 "nbformat_minor": 5
}
